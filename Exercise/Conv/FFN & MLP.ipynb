{
 "cells": [
  {
   "metadata": {},
   "cell_type": "markdown",
   "source": "<h1 align=center><font size = 5>FFN（Feedforward Neural Network）</h1 >",
   "id": "28243a08ba88806a"
  },
  {
   "metadata": {
    "ExecuteTime": {
     "end_time": "2025-03-12T08:51:35.220244Z",
     "start_time": "2025-03-12T08:51:34.018836Z"
    }
   },
   "cell_type": "code",
   "source": [
    "import torch\n",
    "import torch.nn as nn"
   ],
   "id": "ba57ed85c126771",
   "outputs": [],
   "execution_count": 2
  },
  {
   "metadata": {
    "ExecuteTime": {
     "end_time": "2025-03-12T08:51:35.939095Z",
     "start_time": "2025-03-12T08:51:35.935837Z"
    }
   },
   "cell_type": "code",
   "source": [
    "class FFN(nn.Module):\n",
    "    def __init__(self, in_feature, out_feature):\n",
    "        super().__init__()\n",
    "        self.fc1 = nn.Linear(in_feature, 10)      # 第一層：輸入到隱藏層\n",
    "        self.fc2 = nn.Linear(10, out_feature)     # 第二層：隱藏層到輸出層\n",
    "        self.relu = nn.ReLU()                     # ReLU 激活層\n",
    "\n",
    "    def forward(self, x):\n",
    "        x = self.fc1(x)    # 第一層線性變換\n",
    "        x = self.relu(x)   # 激活函數\n",
    "        x = self.fc2(x)    # 第二層線性變換\n",
    "        return x"
   ],
   "id": "a2399066d4eb18d5",
   "outputs": [],
   "execution_count": 3
  },
  {
   "metadata": {},
   "cell_type": "markdown",
   "source": "<h1 align=center><font size = 5>MLP（Multilayer perceptron）</h1 >",
   "id": "85489133c77b1009"
  },
  {
   "metadata": {
    "ExecuteTime": {
     "end_time": "2025-03-12T09:04:37.780975Z",
     "start_time": "2025-03-12T09:04:37.777191Z"
    }
   },
   "cell_type": "code",
   "source": [
    "class MLP(nn.Module):\n",
    "    def __init__(self, in_feature, out_feature, hidden_layer_sizes):\n",
    "        super().__init__()\n",
    "        # 動態生成層\n",
    "        layers = []\n",
    "        prev_size = in_feature  # 前一層的輸出維度，初始為輸入特徵數\n",
    "\n",
    "        # 根據 hidden_layer_sizes 添加隱藏層\n",
    "        for hidden_size in hidden_layer_sizes:\n",
    "            layers.append(nn.Linear(prev_size, hidden_size))\n",
    "            layers.append(nn.ReLU())\n",
    "            prev_size = hidden_size  # 更新前一層的輸出維度\n",
    "\n",
    "        # 添加輸出層\n",
    "        layers.append(nn.Linear(prev_size, out_feature))\n",
    "\n",
    "        # 使用 nn.Sequential 將所有層組合起來\n",
    "        self.network = nn.Sequential(*layers)\n",
    "\n",
    "    def forward(self, x):\n",
    "        x = self.network(x)\n",
    "        return x\n"
   ],
   "id": "64d0e70dbcad01d2",
   "outputs": [],
   "execution_count": 8
  }
 ],
 "metadata": {
  "kernelspec": {
   "display_name": "Python 3",
   "language": "python",
   "name": "python3"
  },
  "language_info": {
   "codemirror_mode": {
    "name": "ipython",
    "version": 2
   },
   "file_extension": ".py",
   "mimetype": "text/x-python",
   "name": "python",
   "nbconvert_exporter": "python",
   "pygments_lexer": "ipython2",
   "version": "2.7.6"
  }
 },
 "nbformat": 4,
 "nbformat_minor": 5
}
