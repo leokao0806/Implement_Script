{
 "cells": [
  {
   "cell_type": "markdown",
   "metadata": {},
   "source": [
    "<h1 align=center><font size = 5>參數的調整應用 </h1 >\n"
   ]
  },
  {
   "cell_type": "markdown",
   "metadata": {},
   "source": [
    "<h3>Objective for this Notebook</h3>    \n",
    "<h5> 1. 了解如何針對不同的Layer：載入、凍結、提取、保存權重</h5>\n"
   ]
  },
  {
   "cell_type": "markdown",
   "metadata": {},
   "source": [
    "\n",
    "# Table of Contents\n",
    "<li><a href=\"#ref0\">載入權重</a></li>\n",
    "<li><a href=\"#ref1\">凍結權重</a></li>\n",
    "<li><a href=\"#ref2\">提取權重</a></li>\n",
    "<li><a href=\"#ref3\">保存權重</a></li>\n",
    "<hr>\n"
   ]
  },
  {
   "cell_type": "markdown",
   "metadata": {},
   "source": [
    "<a id=\"ref0\"></a>\n",
    "<h2 align=center>載入權重  </h2>"
   ]
  },
  {
   "cell_type": "markdown",
   "metadata": {},
   "source": [
    "載入權重是將事先訓練過的模型的權重加載到當前模型中。在深度學習中，常見的做法是使用預訓練的模型進行微調，從而提高訓練效率並改善性能。預訓練模型通常是在大型數據集（如ImageNet）上訓練的，這些模型能夠學到一般性的特徵，可以作為下游任務的基礎。"
   ]
  },
  {
   "cell_type": "markdown",
   "metadata": {},
   "source": [
    "導入必要套件"
   ]
  },
  {
   "cell_type": "code",
   "execution_count": 9,
   "metadata": {},
   "outputs": [],
   "source": [
    "import torch\n",
    "import torch.nn as nn\n",
    "import torchvision.models as models\n",
    "import urllib.request\n",
    "import os"
   ]
  },
  {
   "cell_type": "markdown",
   "metadata": {},
   "source": [
    "確認CUDA狀態"
   ]
  },
  {
   "cell_type": "code",
   "execution_count": 2,
   "metadata": {},
   "outputs": [
    {
     "name": "stdout",
     "output_type": "stream",
     "text": [
      "Device: cuda\n"
     ]
    }
   ],
   "source": [
    "device = torch.device(\"cuda\" if torch.cuda.is_available() else \"cpu\")\n",
    "print(f\"Device: {device}\")"
   ]
  },
  {
   "cell_type": "markdown",
   "metadata": {},
   "source": [
    "<h3 align=center>方法一：直接載入  </h3>"
   ]
  },
  {
   "cell_type": "markdown",
   "metadata": {},
   "source": [
    "手動下載預訓練權重(以ResNet50為範例)"
   ]
  },
  {
   "cell_type": "code",
   "execution_count": 223,
   "metadata": {},
   "outputs": [],
   "source": [
    "weights_url = \"https://download.pytorch.org/models/resnet50-0676ba61.pth\"\n",
    "weights_path = \"./resnet50.pth\"\n",
    "if not os.path.exists(weights_path):\n",
    "    print(\"Downloading ResNet50 weights...\")\n",
    "    urllib.request.urlretrieve(weights_url, weights_path)\n",
    "    print(\"Download completed!\")"
   ]
  },
  {
   "cell_type": "code",
   "execution_count": 226,
   "metadata": {},
   "outputs": [
    {
     "name": "stderr",
     "output_type": "stream",
     "text": [
      "C:\\Users\\tony1\\AppData\\Local\\Temp\\ipykernel_39040\\368650667.py:3: FutureWarning: You are using `torch.load` with `weights_only=False` (the current default value), which uses the default pickle module implicitly. It is possible to construct malicious pickle data which will execute arbitrary code during unpickling (See https://github.com/pytorch/pytorch/blob/main/SECURITY.md#untrusted-models for more details). In a future release, the default value for `weights_only` will be flipped to `True`. This limits the functions that could be executed during unpickling. Arbitrary objects will no longer be allowed to be loaded via this mode unless they are explicitly allowlisted by the user via `torch.serialization.add_safe_globals`. We recommend you start setting `weights_only=True` for any use case where you don't have full control of the loaded file. Please open an issue on GitHub for any issues related to this experimental feature.\n",
      "  pretrained_weights = torch.load(weights_path, map_location=device)\n"
     ]
    },
    {
     "data": {
      "text/plain": [
       "<All keys matched successfully>"
      ]
     },
     "execution_count": 226,
     "metadata": {},
     "output_type": "execute_result"
    }
   ],
   "source": [
    "model_resnet50_case1 = models.resnet50()  # 預設載入未訓練權重的模型\n",
    "model_resnet50_case1.to(device) \n",
    "pretrained_weights = torch.load(weights_path, map_location=device)\n",
    "model_resnet50_case1.load_state_dict(pretrained_weights)"
   ]
  },
  {
   "cell_type": "markdown",
   "metadata": {},
   "source": [
    "自動下載預訓練權重(以ResNet50為範例)"
   ]
  },
  {
   "cell_type": "code",
   "execution_count": 228,
   "metadata": {},
   "outputs": [],
   "source": [
    "model_resnet50_case1 = models.resnet50(weights=True)"
   ]
  },
  {
   "cell_type": "markdown",
   "metadata": {},
   "source": [
    "自動下載預訓練權重(以ViT為範例)"
   ]
  },
  {
   "cell_type": "code",
   "execution_count": 234,
   "metadata": {},
   "outputs": [],
   "source": [
    "model_vit_b_16_case1=models.vit_b_16(weights='IMAGENET1K_V1')"
   ]
  },
  {
   "cell_type": "markdown",
   "metadata": {},
   "source": [
    "<h3 align=center>方法二：Fine-Tune(CNN-based)  </h3>"
   ]
  },
  {
   "cell_type": "markdown",
   "metadata": {},
   "source": [
    "載入模型"
   ]
  },
  {
   "cell_type": "code",
   "execution_count": 229,
   "metadata": {},
   "outputs": [
    {
     "name": "stdout",
     "output_type": "stream",
     "text": [
      "原始模型的架構： ResNet(\n",
      "  (conv1): Conv2d(3, 64, kernel_size=(7, 7), stride=(2, 2), padding=(3, 3), bias=False)\n",
      "  (bn1): BatchNorm2d(64, eps=1e-05, momentum=0.1, affine=True, track_running_stats=True)\n",
      "  (relu): ReLU(inplace=True)\n",
      "  (maxpool): MaxPool2d(kernel_size=3, stride=2, padding=1, dilation=1, ceil_mode=False)\n",
      "  (layer1): Sequential(\n",
      "    (0): Bottleneck(\n",
      "      (conv1): Conv2d(64, 64, kernel_size=(1, 1), stride=(1, 1), bias=False)\n",
      "      (bn1): BatchNorm2d(64, eps=1e-05, momentum=0.1, affine=True, track_running_stats=True)\n",
      "      (conv2): Conv2d(64, 64, kernel_size=(3, 3), stride=(1, 1), padding=(1, 1), bias=False)\n",
      "      (bn2): BatchNorm2d(64, eps=1e-05, momentum=0.1, affine=True, track_running_stats=True)\n",
      "      (conv3): Conv2d(64, 256, kernel_size=(1, 1), stride=(1, 1), bias=False)\n",
      "      (bn3): BatchNorm2d(256, eps=1e-05, momentum=0.1, affine=True, track_running_stats=True)\n",
      "      (relu): ReLU(inplace=True)\n",
      "      (downsample): Sequential(\n",
      "        (0): Conv2d(64, 256, kernel_size=(1, 1), stride=(1, 1), bias=False)\n",
      "        (1): BatchNorm2d(256, eps=1e-05, momentum=0.1, affine=True, track_running_stats=True)\n",
      "      )\n",
      "    )\n",
      "    (1): Bottleneck(\n",
      "      (conv1): Conv2d(256, 64, kernel_size=(1, 1), stride=(1, 1), bias=False)\n",
      "      (bn1): BatchNorm2d(64, eps=1e-05, momentum=0.1, affine=True, track_running_stats=True)\n",
      "      (conv2): Conv2d(64, 64, kernel_size=(3, 3), stride=(1, 1), padding=(1, 1), bias=False)\n",
      "      (bn2): BatchNorm2d(64, eps=1e-05, momentum=0.1, affine=True, track_running_stats=True)\n",
      "      (conv3): Conv2d(64, 256, kernel_size=(1, 1), stride=(1, 1), bias=False)\n",
      "      (bn3): BatchNorm2d(256, eps=1e-05, momentum=0.1, affine=True, track_running_stats=True)\n",
      "      (relu): ReLU(inplace=True)\n",
      "    )\n",
      "    (2): Bottleneck(\n",
      "      (conv1): Conv2d(256, 64, kernel_size=(1, 1), stride=(1, 1), bias=False)\n",
      "      (bn1): BatchNorm2d(64, eps=1e-05, momentum=0.1, affine=True, track_running_stats=True)\n",
      "      (conv2): Conv2d(64, 64, kernel_size=(3, 3), stride=(1, 1), padding=(1, 1), bias=False)\n",
      "      (bn2): BatchNorm2d(64, eps=1e-05, momentum=0.1, affine=True, track_running_stats=True)\n",
      "      (conv3): Conv2d(64, 256, kernel_size=(1, 1), stride=(1, 1), bias=False)\n",
      "      (bn3): BatchNorm2d(256, eps=1e-05, momentum=0.1, affine=True, track_running_stats=True)\n",
      "      (relu): ReLU(inplace=True)\n",
      "    )\n",
      "  )\n",
      "  (layer2): Sequential(\n",
      "    (0): Bottleneck(\n",
      "      (conv1): Conv2d(256, 128, kernel_size=(1, 1), stride=(1, 1), bias=False)\n",
      "      (bn1): BatchNorm2d(128, eps=1e-05, momentum=0.1, affine=True, track_running_stats=True)\n",
      "      (conv2): Conv2d(128, 128, kernel_size=(3, 3), stride=(2, 2), padding=(1, 1), bias=False)\n",
      "      (bn2): BatchNorm2d(128, eps=1e-05, momentum=0.1, affine=True, track_running_stats=True)\n",
      "      (conv3): Conv2d(128, 512, kernel_size=(1, 1), stride=(1, 1), bias=False)\n",
      "      (bn3): BatchNorm2d(512, eps=1e-05, momentum=0.1, affine=True, track_running_stats=True)\n",
      "      (relu): ReLU(inplace=True)\n",
      "      (downsample): Sequential(\n",
      "        (0): Conv2d(256, 512, kernel_size=(1, 1), stride=(2, 2), bias=False)\n",
      "        (1): BatchNorm2d(512, eps=1e-05, momentum=0.1, affine=True, track_running_stats=True)\n",
      "      )\n",
      "    )\n",
      "    (1): Bottleneck(\n",
      "      (conv1): Conv2d(512, 128, kernel_size=(1, 1), stride=(1, 1), bias=False)\n",
      "      (bn1): BatchNorm2d(128, eps=1e-05, momentum=0.1, affine=True, track_running_stats=True)\n",
      "      (conv2): Conv2d(128, 128, kernel_size=(3, 3), stride=(1, 1), padding=(1, 1), bias=False)\n",
      "      (bn2): BatchNorm2d(128, eps=1e-05, momentum=0.1, affine=True, track_running_stats=True)\n",
      "      (conv3): Conv2d(128, 512, kernel_size=(1, 1), stride=(1, 1), bias=False)\n",
      "      (bn3): BatchNorm2d(512, eps=1e-05, momentum=0.1, affine=True, track_running_stats=True)\n",
      "      (relu): ReLU(inplace=True)\n",
      "    )\n",
      "    (2): Bottleneck(\n",
      "      (conv1): Conv2d(512, 128, kernel_size=(1, 1), stride=(1, 1), bias=False)\n",
      "      (bn1): BatchNorm2d(128, eps=1e-05, momentum=0.1, affine=True, track_running_stats=True)\n",
      "      (conv2): Conv2d(128, 128, kernel_size=(3, 3), stride=(1, 1), padding=(1, 1), bias=False)\n",
      "      (bn2): BatchNorm2d(128, eps=1e-05, momentum=0.1, affine=True, track_running_stats=True)\n",
      "      (conv3): Conv2d(128, 512, kernel_size=(1, 1), stride=(1, 1), bias=False)\n",
      "      (bn3): BatchNorm2d(512, eps=1e-05, momentum=0.1, affine=True, track_running_stats=True)\n",
      "      (relu): ReLU(inplace=True)\n",
      "    )\n",
      "    (3): Bottleneck(\n",
      "      (conv1): Conv2d(512, 128, kernel_size=(1, 1), stride=(1, 1), bias=False)\n",
      "      (bn1): BatchNorm2d(128, eps=1e-05, momentum=0.1, affine=True, track_running_stats=True)\n",
      "      (conv2): Conv2d(128, 128, kernel_size=(3, 3), stride=(1, 1), padding=(1, 1), bias=False)\n",
      "      (bn2): BatchNorm2d(128, eps=1e-05, momentum=0.1, affine=True, track_running_stats=True)\n",
      "      (conv3): Conv2d(128, 512, kernel_size=(1, 1), stride=(1, 1), bias=False)\n",
      "      (bn3): BatchNorm2d(512, eps=1e-05, momentum=0.1, affine=True, track_running_stats=True)\n",
      "      (relu): ReLU(inplace=True)\n",
      "    )\n",
      "  )\n",
      "  (layer3): Sequential(\n",
      "    (0): Bottleneck(\n",
      "      (conv1): Conv2d(512, 256, kernel_size=(1, 1), stride=(1, 1), bias=False)\n",
      "      (bn1): BatchNorm2d(256, eps=1e-05, momentum=0.1, affine=True, track_running_stats=True)\n",
      "      (conv2): Conv2d(256, 256, kernel_size=(3, 3), stride=(2, 2), padding=(1, 1), bias=False)\n",
      "      (bn2): BatchNorm2d(256, eps=1e-05, momentum=0.1, affine=True, track_running_stats=True)\n",
      "      (conv3): Conv2d(256, 1024, kernel_size=(1, 1), stride=(1, 1), bias=False)\n",
      "      (bn3): BatchNorm2d(1024, eps=1e-05, momentum=0.1, affine=True, track_running_stats=True)\n",
      "      (relu): ReLU(inplace=True)\n",
      "      (downsample): Sequential(\n",
      "        (0): Conv2d(512, 1024, kernel_size=(1, 1), stride=(2, 2), bias=False)\n",
      "        (1): BatchNorm2d(1024, eps=1e-05, momentum=0.1, affine=True, track_running_stats=True)\n",
      "      )\n",
      "    )\n",
      "    (1): Bottleneck(\n",
      "      (conv1): Conv2d(1024, 256, kernel_size=(1, 1), stride=(1, 1), bias=False)\n",
      "      (bn1): BatchNorm2d(256, eps=1e-05, momentum=0.1, affine=True, track_running_stats=True)\n",
      "      (conv2): Conv2d(256, 256, kernel_size=(3, 3), stride=(1, 1), padding=(1, 1), bias=False)\n",
      "      (bn2): BatchNorm2d(256, eps=1e-05, momentum=0.1, affine=True, track_running_stats=True)\n",
      "      (conv3): Conv2d(256, 1024, kernel_size=(1, 1), stride=(1, 1), bias=False)\n",
      "      (bn3): BatchNorm2d(1024, eps=1e-05, momentum=0.1, affine=True, track_running_stats=True)\n",
      "      (relu): ReLU(inplace=True)\n",
      "    )\n",
      "    (2): Bottleneck(\n",
      "      (conv1): Conv2d(1024, 256, kernel_size=(1, 1), stride=(1, 1), bias=False)\n",
      "      (bn1): BatchNorm2d(256, eps=1e-05, momentum=0.1, affine=True, track_running_stats=True)\n",
      "      (conv2): Conv2d(256, 256, kernel_size=(3, 3), stride=(1, 1), padding=(1, 1), bias=False)\n",
      "      (bn2): BatchNorm2d(256, eps=1e-05, momentum=0.1, affine=True, track_running_stats=True)\n",
      "      (conv3): Conv2d(256, 1024, kernel_size=(1, 1), stride=(1, 1), bias=False)\n",
      "      (bn3): BatchNorm2d(1024, eps=1e-05, momentum=0.1, affine=True, track_running_stats=True)\n",
      "      (relu): ReLU(inplace=True)\n",
      "    )\n",
      "    (3): Bottleneck(\n",
      "      (conv1): Conv2d(1024, 256, kernel_size=(1, 1), stride=(1, 1), bias=False)\n",
      "      (bn1): BatchNorm2d(256, eps=1e-05, momentum=0.1, affine=True, track_running_stats=True)\n",
      "      (conv2): Conv2d(256, 256, kernel_size=(3, 3), stride=(1, 1), padding=(1, 1), bias=False)\n",
      "      (bn2): BatchNorm2d(256, eps=1e-05, momentum=0.1, affine=True, track_running_stats=True)\n",
      "      (conv3): Conv2d(256, 1024, kernel_size=(1, 1), stride=(1, 1), bias=False)\n",
      "      (bn3): BatchNorm2d(1024, eps=1e-05, momentum=0.1, affine=True, track_running_stats=True)\n",
      "      (relu): ReLU(inplace=True)\n",
      "    )\n",
      "    (4): Bottleneck(\n",
      "      (conv1): Conv2d(1024, 256, kernel_size=(1, 1), stride=(1, 1), bias=False)\n",
      "      (bn1): BatchNorm2d(256, eps=1e-05, momentum=0.1, affine=True, track_running_stats=True)\n",
      "      (conv2): Conv2d(256, 256, kernel_size=(3, 3), stride=(1, 1), padding=(1, 1), bias=False)\n",
      "      (bn2): BatchNorm2d(256, eps=1e-05, momentum=0.1, affine=True, track_running_stats=True)\n",
      "      (conv3): Conv2d(256, 1024, kernel_size=(1, 1), stride=(1, 1), bias=False)\n",
      "      (bn3): BatchNorm2d(1024, eps=1e-05, momentum=0.1, affine=True, track_running_stats=True)\n",
      "      (relu): ReLU(inplace=True)\n",
      "    )\n",
      "    (5): Bottleneck(\n",
      "      (conv1): Conv2d(1024, 256, kernel_size=(1, 1), stride=(1, 1), bias=False)\n",
      "      (bn1): BatchNorm2d(256, eps=1e-05, momentum=0.1, affine=True, track_running_stats=True)\n",
      "      (conv2): Conv2d(256, 256, kernel_size=(3, 3), stride=(1, 1), padding=(1, 1), bias=False)\n",
      "      (bn2): BatchNorm2d(256, eps=1e-05, momentum=0.1, affine=True, track_running_stats=True)\n",
      "      (conv3): Conv2d(256, 1024, kernel_size=(1, 1), stride=(1, 1), bias=False)\n",
      "      (bn3): BatchNorm2d(1024, eps=1e-05, momentum=0.1, affine=True, track_running_stats=True)\n",
      "      (relu): ReLU(inplace=True)\n",
      "    )\n",
      "  )\n",
      "  (layer4): Sequential(\n",
      "    (0): Bottleneck(\n",
      "      (conv1): Conv2d(1024, 512, kernel_size=(1, 1), stride=(1, 1), bias=False)\n",
      "      (bn1): BatchNorm2d(512, eps=1e-05, momentum=0.1, affine=True, track_running_stats=True)\n",
      "      (conv2): Conv2d(512, 512, kernel_size=(3, 3), stride=(2, 2), padding=(1, 1), bias=False)\n",
      "      (bn2): BatchNorm2d(512, eps=1e-05, momentum=0.1, affine=True, track_running_stats=True)\n",
      "      (conv3): Conv2d(512, 2048, kernel_size=(1, 1), stride=(1, 1), bias=False)\n",
      "      (bn3): BatchNorm2d(2048, eps=1e-05, momentum=0.1, affine=True, track_running_stats=True)\n",
      "      (relu): ReLU(inplace=True)\n",
      "      (downsample): Sequential(\n",
      "        (0): Conv2d(1024, 2048, kernel_size=(1, 1), stride=(2, 2), bias=False)\n",
      "        (1): BatchNorm2d(2048, eps=1e-05, momentum=0.1, affine=True, track_running_stats=True)\n",
      "      )\n",
      "    )\n",
      "    (1): Bottleneck(\n",
      "      (conv1): Conv2d(2048, 512, kernel_size=(1, 1), stride=(1, 1), bias=False)\n",
      "      (bn1): BatchNorm2d(512, eps=1e-05, momentum=0.1, affine=True, track_running_stats=True)\n",
      "      (conv2): Conv2d(512, 512, kernel_size=(3, 3), stride=(1, 1), padding=(1, 1), bias=False)\n",
      "      (bn2): BatchNorm2d(512, eps=1e-05, momentum=0.1, affine=True, track_running_stats=True)\n",
      "      (conv3): Conv2d(512, 2048, kernel_size=(1, 1), stride=(1, 1), bias=False)\n",
      "      (bn3): BatchNorm2d(2048, eps=1e-05, momentum=0.1, affine=True, track_running_stats=True)\n",
      "      (relu): ReLU(inplace=True)\n",
      "    )\n",
      "    (2): Bottleneck(\n",
      "      (conv1): Conv2d(2048, 512, kernel_size=(1, 1), stride=(1, 1), bias=False)\n",
      "      (bn1): BatchNorm2d(512, eps=1e-05, momentum=0.1, affine=True, track_running_stats=True)\n",
      "      (conv2): Conv2d(512, 512, kernel_size=(3, 3), stride=(1, 1), padding=(1, 1), bias=False)\n",
      "      (bn2): BatchNorm2d(512, eps=1e-05, momentum=0.1, affine=True, track_running_stats=True)\n",
      "      (conv3): Conv2d(512, 2048, kernel_size=(1, 1), stride=(1, 1), bias=False)\n",
      "      (bn3): BatchNorm2d(2048, eps=1e-05, momentum=0.1, affine=True, track_running_stats=True)\n",
      "      (relu): ReLU(inplace=True)\n",
      "    )\n",
      "  )\n",
      "  (avgpool): AdaptiveAvgPool2d(output_size=(1, 1))\n",
      "  (fc): Linear(in_features=2048, out_features=1000, bias=True)\n",
      ")\n"
     ]
    }
   ],
   "source": [
    "# 載入ResNet-50\n",
    "model_resnet50_case2 = models.resnet50()\n",
    "print(\"原始模型的架構：\",model_resnet50_case2)"
   ]
  },
  {
   "cell_type": "markdown",
   "metadata": {},
   "source": [
    "將最後一個分類層的類別數量修改為5"
   ]
  },
  {
   "cell_type": "code",
   "execution_count": 230,
   "metadata": {},
   "outputs": [
    {
     "name": "stdout",
     "output_type": "stream",
     "text": [
      "修改後模型的輸出層： Linear(in_features=2048, out_features=5, bias=True)\n"
     ]
    }
   ],
   "source": [
    "in_features = model_resnet50_case2.fc.in_features  # 取得輸入特徵的數量\n",
    "model_resnet50_case2.fc = nn.Linear(in_features, 5) \n",
    "print(\"修改後模型的輸出層：\",model_resnet50_case2.fc)"
   ]
  },
  {
   "cell_type": "markdown",
   "metadata": {},
   "source": [
    "讀取權重檔案.pth"
   ]
  },
  {
   "cell_type": "code",
   "execution_count": 231,
   "metadata": {},
   "outputs": [
    {
     "name": "stderr",
     "output_type": "stream",
     "text": [
      "C:\\Users\\tony1\\AppData\\Local\\Temp\\ipykernel_39040\\1385590009.py:3: FutureWarning: You are using `torch.load` with `weights_only=False` (the current default value), which uses the default pickle module implicitly. It is possible to construct malicious pickle data which will execute arbitrary code during unpickling (See https://github.com/pytorch/pytorch/blob/main/SECURITY.md#untrusted-models for more details). In a future release, the default value for `weights_only` will be flipped to `True`. This limits the functions that could be executed during unpickling. Arbitrary objects will no longer be allowed to be loaded via this mode unless they are explicitly allowlisted by the user via `torch.serialization.add_safe_globals`. We recommend you start setting `weights_only=True` for any use case where you don't have full control of the loaded file. Please open an issue on GitHub for any issues related to this experimental feature.\n",
      "  pretrained_weights = torch.load(weights_path, map_location=device)\n"
     ]
    }
   ],
   "source": [
    "# 載入預訓練權重\n",
    "weights_path = \"./resnet50.pth\"\n",
    "pretrained_weights = torch.load(weights_path, map_location=device)"
   ]
  },
  {
   "cell_type": "markdown",
   "metadata": {},
   "source": [
    "不載入全連接層的權重"
   ]
  },
  {
   "cell_type": "code",
   "execution_count": 232,
   "metadata": {},
   "outputs": [],
   "source": [
    "pre_dict = {k: v for k, v in pretrained_weights.items() if \"fc\" not in k} #同理其他層也是 if \"layer4\" not in k or \"fc\" not in k\n",
    "#不熟悉語法的同學可以看一下 https://python-reference.readthedocs.io/en/latest/docs/comprehensions/dict_comprehension.html"
   ]
  },
  {
   "cell_type": "markdown",
   "metadata": {},
   "source": [
    "讓模型載入權重"
   ]
  },
  {
   "cell_type": "code",
   "execution_count": 233,
   "metadata": {},
   "outputs": [
    {
     "name": "stdout",
     "output_type": "stream",
     "text": [
      "[沒有載入的權重]:\n",
      "fc.weight\n",
      "fc.bias\n",
      "\n",
      "\n",
      "[未找到對應層的權重]:\n"
     ]
    }
   ],
   "source": [
    "# strict=False 是確保加載的權重與模型匹配，設定為True的話必須全部參數名稱都一致\n",
    "missing_keys, unexpected_keys = model_resnet50_case2.load_state_dict(pre_dict, strict=False)\n",
    "#missing_keys是沒有載入的權重；unexpected_keys是預訓練權重中存在，但模型結構中未找到對應層的權重key。\n",
    "\n",
    "print(\"[沒有載入的權重]:\", *missing_keys,sep=\"\\n\")\n",
    "print(\"\\n\")\n",
    "print(\"[未找到對應層的權重]:\", *unexpected_keys,sep=\"\\n\")\n",
    "\n"
   ]
  },
  {
   "cell_type": "markdown",
   "metadata": {},
   "source": [
    "<h3 align=center>方法二：Fine-Tune(Transformer-based)  </h3>"
   ]
  },
  {
   "cell_type": "markdown",
   "metadata": {},
   "source": [
    "載入模型(以Vision Transformer為範例)\n",
    "<br>\n",
    "https://pytorch.org/vision/main/models/generated/torchvision.models.vit_b_16.html#torchvision.models.vit_b_16"
   ]
  },
  {
   "cell_type": "code",
   "execution_count": 235,
   "metadata": {},
   "outputs": [
    {
     "data": {
      "text/plain": [
       "VisionTransformer(\n",
       "  (conv_proj): Conv2d(3, 768, kernel_size=(16, 16), stride=(16, 16))\n",
       "  (encoder): Encoder(\n",
       "    (dropout): Dropout(p=0.0, inplace=False)\n",
       "    (layers): Sequential(\n",
       "      (encoder_layer_0): EncoderBlock(\n",
       "        (ln_1): LayerNorm((768,), eps=1e-06, elementwise_affine=True)\n",
       "        (self_attention): MultiheadAttention(\n",
       "          (out_proj): NonDynamicallyQuantizableLinear(in_features=768, out_features=768, bias=True)\n",
       "        )\n",
       "        (dropout): Dropout(p=0.0, inplace=False)\n",
       "        (ln_2): LayerNorm((768,), eps=1e-06, elementwise_affine=True)\n",
       "        (mlp): MLPBlock(\n",
       "          (0): Linear(in_features=768, out_features=3072, bias=True)\n",
       "          (1): GELU(approximate='none')\n",
       "          (2): Dropout(p=0.0, inplace=False)\n",
       "          (3): Linear(in_features=3072, out_features=768, bias=True)\n",
       "          (4): Dropout(p=0.0, inplace=False)\n",
       "        )\n",
       "      )\n",
       "      (encoder_layer_1): EncoderBlock(\n",
       "        (ln_1): LayerNorm((768,), eps=1e-06, elementwise_affine=True)\n",
       "        (self_attention): MultiheadAttention(\n",
       "          (out_proj): NonDynamicallyQuantizableLinear(in_features=768, out_features=768, bias=True)\n",
       "        )\n",
       "        (dropout): Dropout(p=0.0, inplace=False)\n",
       "        (ln_2): LayerNorm((768,), eps=1e-06, elementwise_affine=True)\n",
       "        (mlp): MLPBlock(\n",
       "          (0): Linear(in_features=768, out_features=3072, bias=True)\n",
       "          (1): GELU(approximate='none')\n",
       "          (2): Dropout(p=0.0, inplace=False)\n",
       "          (3): Linear(in_features=3072, out_features=768, bias=True)\n",
       "          (4): Dropout(p=0.0, inplace=False)\n",
       "        )\n",
       "      )\n",
       "      (encoder_layer_2): EncoderBlock(\n",
       "        (ln_1): LayerNorm((768,), eps=1e-06, elementwise_affine=True)\n",
       "        (self_attention): MultiheadAttention(\n",
       "          (out_proj): NonDynamicallyQuantizableLinear(in_features=768, out_features=768, bias=True)\n",
       "        )\n",
       "        (dropout): Dropout(p=0.0, inplace=False)\n",
       "        (ln_2): LayerNorm((768,), eps=1e-06, elementwise_affine=True)\n",
       "        (mlp): MLPBlock(\n",
       "          (0): Linear(in_features=768, out_features=3072, bias=True)\n",
       "          (1): GELU(approximate='none')\n",
       "          (2): Dropout(p=0.0, inplace=False)\n",
       "          (3): Linear(in_features=3072, out_features=768, bias=True)\n",
       "          (4): Dropout(p=0.0, inplace=False)\n",
       "        )\n",
       "      )\n",
       "      (encoder_layer_3): EncoderBlock(\n",
       "        (ln_1): LayerNorm((768,), eps=1e-06, elementwise_affine=True)\n",
       "        (self_attention): MultiheadAttention(\n",
       "          (out_proj): NonDynamicallyQuantizableLinear(in_features=768, out_features=768, bias=True)\n",
       "        )\n",
       "        (dropout): Dropout(p=0.0, inplace=False)\n",
       "        (ln_2): LayerNorm((768,), eps=1e-06, elementwise_affine=True)\n",
       "        (mlp): MLPBlock(\n",
       "          (0): Linear(in_features=768, out_features=3072, bias=True)\n",
       "          (1): GELU(approximate='none')\n",
       "          (2): Dropout(p=0.0, inplace=False)\n",
       "          (3): Linear(in_features=3072, out_features=768, bias=True)\n",
       "          (4): Dropout(p=0.0, inplace=False)\n",
       "        )\n",
       "      )\n",
       "      (encoder_layer_4): EncoderBlock(\n",
       "        (ln_1): LayerNorm((768,), eps=1e-06, elementwise_affine=True)\n",
       "        (self_attention): MultiheadAttention(\n",
       "          (out_proj): NonDynamicallyQuantizableLinear(in_features=768, out_features=768, bias=True)\n",
       "        )\n",
       "        (dropout): Dropout(p=0.0, inplace=False)\n",
       "        (ln_2): LayerNorm((768,), eps=1e-06, elementwise_affine=True)\n",
       "        (mlp): MLPBlock(\n",
       "          (0): Linear(in_features=768, out_features=3072, bias=True)\n",
       "          (1): GELU(approximate='none')\n",
       "          (2): Dropout(p=0.0, inplace=False)\n",
       "          (3): Linear(in_features=3072, out_features=768, bias=True)\n",
       "          (4): Dropout(p=0.0, inplace=False)\n",
       "        )\n",
       "      )\n",
       "      (encoder_layer_5): EncoderBlock(\n",
       "        (ln_1): LayerNorm((768,), eps=1e-06, elementwise_affine=True)\n",
       "        (self_attention): MultiheadAttention(\n",
       "          (out_proj): NonDynamicallyQuantizableLinear(in_features=768, out_features=768, bias=True)\n",
       "        )\n",
       "        (dropout): Dropout(p=0.0, inplace=False)\n",
       "        (ln_2): LayerNorm((768,), eps=1e-06, elementwise_affine=True)\n",
       "        (mlp): MLPBlock(\n",
       "          (0): Linear(in_features=768, out_features=3072, bias=True)\n",
       "          (1): GELU(approximate='none')\n",
       "          (2): Dropout(p=0.0, inplace=False)\n",
       "          (3): Linear(in_features=3072, out_features=768, bias=True)\n",
       "          (4): Dropout(p=0.0, inplace=False)\n",
       "        )\n",
       "      )\n",
       "      (encoder_layer_6): EncoderBlock(\n",
       "        (ln_1): LayerNorm((768,), eps=1e-06, elementwise_affine=True)\n",
       "        (self_attention): MultiheadAttention(\n",
       "          (out_proj): NonDynamicallyQuantizableLinear(in_features=768, out_features=768, bias=True)\n",
       "        )\n",
       "        (dropout): Dropout(p=0.0, inplace=False)\n",
       "        (ln_2): LayerNorm((768,), eps=1e-06, elementwise_affine=True)\n",
       "        (mlp): MLPBlock(\n",
       "          (0): Linear(in_features=768, out_features=3072, bias=True)\n",
       "          (1): GELU(approximate='none')\n",
       "          (2): Dropout(p=0.0, inplace=False)\n",
       "          (3): Linear(in_features=3072, out_features=768, bias=True)\n",
       "          (4): Dropout(p=0.0, inplace=False)\n",
       "        )\n",
       "      )\n",
       "      (encoder_layer_7): EncoderBlock(\n",
       "        (ln_1): LayerNorm((768,), eps=1e-06, elementwise_affine=True)\n",
       "        (self_attention): MultiheadAttention(\n",
       "          (out_proj): NonDynamicallyQuantizableLinear(in_features=768, out_features=768, bias=True)\n",
       "        )\n",
       "        (dropout): Dropout(p=0.0, inplace=False)\n",
       "        (ln_2): LayerNorm((768,), eps=1e-06, elementwise_affine=True)\n",
       "        (mlp): MLPBlock(\n",
       "          (0): Linear(in_features=768, out_features=3072, bias=True)\n",
       "          (1): GELU(approximate='none')\n",
       "          (2): Dropout(p=0.0, inplace=False)\n",
       "          (3): Linear(in_features=3072, out_features=768, bias=True)\n",
       "          (4): Dropout(p=0.0, inplace=False)\n",
       "        )\n",
       "      )\n",
       "      (encoder_layer_8): EncoderBlock(\n",
       "        (ln_1): LayerNorm((768,), eps=1e-06, elementwise_affine=True)\n",
       "        (self_attention): MultiheadAttention(\n",
       "          (out_proj): NonDynamicallyQuantizableLinear(in_features=768, out_features=768, bias=True)\n",
       "        )\n",
       "        (dropout): Dropout(p=0.0, inplace=False)\n",
       "        (ln_2): LayerNorm((768,), eps=1e-06, elementwise_affine=True)\n",
       "        (mlp): MLPBlock(\n",
       "          (0): Linear(in_features=768, out_features=3072, bias=True)\n",
       "          (1): GELU(approximate='none')\n",
       "          (2): Dropout(p=0.0, inplace=False)\n",
       "          (3): Linear(in_features=3072, out_features=768, bias=True)\n",
       "          (4): Dropout(p=0.0, inplace=False)\n",
       "        )\n",
       "      )\n",
       "      (encoder_layer_9): EncoderBlock(\n",
       "        (ln_1): LayerNorm((768,), eps=1e-06, elementwise_affine=True)\n",
       "        (self_attention): MultiheadAttention(\n",
       "          (out_proj): NonDynamicallyQuantizableLinear(in_features=768, out_features=768, bias=True)\n",
       "        )\n",
       "        (dropout): Dropout(p=0.0, inplace=False)\n",
       "        (ln_2): LayerNorm((768,), eps=1e-06, elementwise_affine=True)\n",
       "        (mlp): MLPBlock(\n",
       "          (0): Linear(in_features=768, out_features=3072, bias=True)\n",
       "          (1): GELU(approximate='none')\n",
       "          (2): Dropout(p=0.0, inplace=False)\n",
       "          (3): Linear(in_features=3072, out_features=768, bias=True)\n",
       "          (4): Dropout(p=0.0, inplace=False)\n",
       "        )\n",
       "      )\n",
       "      (encoder_layer_10): EncoderBlock(\n",
       "        (ln_1): LayerNorm((768,), eps=1e-06, elementwise_affine=True)\n",
       "        (self_attention): MultiheadAttention(\n",
       "          (out_proj): NonDynamicallyQuantizableLinear(in_features=768, out_features=768, bias=True)\n",
       "        )\n",
       "        (dropout): Dropout(p=0.0, inplace=False)\n",
       "        (ln_2): LayerNorm((768,), eps=1e-06, elementwise_affine=True)\n",
       "        (mlp): MLPBlock(\n",
       "          (0): Linear(in_features=768, out_features=3072, bias=True)\n",
       "          (1): GELU(approximate='none')\n",
       "          (2): Dropout(p=0.0, inplace=False)\n",
       "          (3): Linear(in_features=3072, out_features=768, bias=True)\n",
       "          (4): Dropout(p=0.0, inplace=False)\n",
       "        )\n",
       "      )\n",
       "      (encoder_layer_11): EncoderBlock(\n",
       "        (ln_1): LayerNorm((768,), eps=1e-06, elementwise_affine=True)\n",
       "        (self_attention): MultiheadAttention(\n",
       "          (out_proj): NonDynamicallyQuantizableLinear(in_features=768, out_features=768, bias=True)\n",
       "        )\n",
       "        (dropout): Dropout(p=0.0, inplace=False)\n",
       "        (ln_2): LayerNorm((768,), eps=1e-06, elementwise_affine=True)\n",
       "        (mlp): MLPBlock(\n",
       "          (0): Linear(in_features=768, out_features=3072, bias=True)\n",
       "          (1): GELU(approximate='none')\n",
       "          (2): Dropout(p=0.0, inplace=False)\n",
       "          (3): Linear(in_features=3072, out_features=768, bias=True)\n",
       "          (4): Dropout(p=0.0, inplace=False)\n",
       "        )\n",
       "      )\n",
       "    )\n",
       "    (ln): LayerNorm((768,), eps=1e-06, elementwise_affine=True)\n",
       "  )\n",
       "  (heads): Sequential(\n",
       "    (head): Linear(in_features=768, out_features=1000, bias=True)\n",
       "  )\n",
       ")"
      ]
     },
     "execution_count": 235,
     "metadata": {},
     "output_type": "execute_result"
    }
   ],
   "source": [
    "model_vit_b_16_case2=models.vit_b_16(weights='IMAGENET1K_V1') #直接導入預訓練權重\n",
    "pretrained_weights = model_vit_b_16_case2.state_dict()\n",
    "model_vit_b_16_case2"
   ]
  },
  {
   "cell_type": "markdown",
   "metadata": {},
   "source": [
    "將最後一個分類層的類別數量修改為5"
   ]
  },
  {
   "cell_type": "code",
   "execution_count": 236,
   "metadata": {},
   "outputs": [
    {
     "name": "stdout",
     "output_type": "stream",
     "text": [
      "修改後模型的輸出層： Linear(in_features=768, out_features=5, bias=True)\n"
     ]
    }
   ],
   "source": [
    "in_features = model_vit_b_16_case2.heads.head.in_features  # 取得輸入特徵的數量\n",
    "model_vit_b_16_case2.heads = nn.Linear(in_features, 5) #Transformer的輸出層通常為head\n",
    "print(\"修改後模型的輸出層：\",model_vit_b_16_case2.heads)"
   ]
  },
  {
   "cell_type": "code",
   "execution_count": 237,
   "metadata": {},
   "outputs": [],
   "source": [
    "pre_dict = {k: v for k, v in pretrained_weights.items() if \"head\" not in k}"
   ]
  },
  {
   "cell_type": "code",
   "execution_count": 238,
   "metadata": {},
   "outputs": [
    {
     "name": "stdout",
     "output_type": "stream",
     "text": [
      "[沒有載入的權重]:\n",
      "heads.weight\n",
      "heads.bias\n",
      "\n",
      "\n",
      "[未找到對應層的權重]:\n"
     ]
    }
   ],
   "source": [
    "missing_keys, unexpected_keys = model_vit_b_16_case2.load_state_dict(pre_dict, strict=False)\n",
    "\n",
    "print(\"[沒有載入的權重]:\", *missing_keys,sep=\"\\n\")\n",
    "print(\"\\n\")\n",
    "print(\"[未找到對應層的權重]:\", *unexpected_keys,sep=\"\\n\")"
   ]
  },
  {
   "cell_type": "markdown",
   "metadata": {},
   "source": [
    "讀取權重檔案.pth"
   ]
  },
  {
   "cell_type": "markdown",
   "metadata": {},
   "source": [
    "<a id=\"ref1\"></a>\n",
    "<h2 align=center>凍結權重  </h2>\n"
   ]
  },
  {
   "cell_type": "markdown",
   "metadata": {},
   "source": [
    "凍結權重是指在訓練過程中將某些層的權重固定不變，使得這些層的參數不會被更新。這在微調模型時尤為重要，尤其是當您只希望對模型的部分層進行訓練時。凍結權重可以減少訓練時間，並保留預訓練模型中學到的特徵表示。"
   ]
  },
  {
   "cell_type": "markdown",
   "metadata": {},
   "source": [
    "凍結權重(參數) `param.requires_grad = False`\n",
    "<br>\n",
    "凍結特定層的權重(參數) `model.named_parameters()`"
   ]
  },
  {
   "cell_type": "markdown",
   "metadata": {},
   "source": [
    "以ResNet50為範例"
   ]
  },
  {
   "cell_type": "code",
   "execution_count": 240,
   "metadata": {},
   "outputs": [
    {
     "name": "stdout",
     "output_type": "stream",
     "text": [
      "Layer: layer1.0.conv1.weight, Shape: torch.Size([64, 64, 1, 1])\n",
      "Layer: layer1.0.bn1.weight, Shape: torch.Size([64])\n",
      "Layer: layer1.0.bn1.bias, Shape: torch.Size([64])\n",
      "Layer: layer1.0.conv2.weight, Shape: torch.Size([64, 64, 3, 3])\n",
      "Layer: layer1.0.bn2.weight, Shape: torch.Size([64])\n",
      "Layer: layer1.0.bn2.bias, Shape: torch.Size([64])\n",
      "Layer: layer1.0.conv3.weight, Shape: torch.Size([256, 64, 1, 1])\n",
      "Layer: layer1.0.bn3.weight, Shape: torch.Size([256])\n",
      "Layer: layer1.0.bn3.bias, Shape: torch.Size([256])\n",
      "Layer: layer1.0.downsample.0.weight, Shape: torch.Size([256, 64, 1, 1])\n",
      "Layer: layer1.0.downsample.1.weight, Shape: torch.Size([256])\n",
      "Layer: layer1.0.downsample.1.bias, Shape: torch.Size([256])\n",
      "Layer: layer1.1.conv1.weight, Shape: torch.Size([64, 256, 1, 1])\n",
      "Layer: layer1.1.bn1.weight, Shape: torch.Size([64])\n",
      "Layer: layer1.1.bn1.bias, Shape: torch.Size([64])\n",
      "Layer: layer1.1.conv2.weight, Shape: torch.Size([64, 64, 3, 3])\n",
      "Layer: layer1.1.bn2.weight, Shape: torch.Size([64])\n",
      "Layer: layer1.1.bn2.bias, Shape: torch.Size([64])\n",
      "Layer: layer1.1.conv3.weight, Shape: torch.Size([256, 64, 1, 1])\n",
      "Layer: layer1.1.bn3.weight, Shape: torch.Size([256])\n",
      "Layer: layer1.1.bn3.bias, Shape: torch.Size([256])\n",
      "Layer: layer1.2.conv1.weight, Shape: torch.Size([64, 256, 1, 1])\n",
      "Layer: layer1.2.bn1.weight, Shape: torch.Size([64])\n",
      "Layer: layer1.2.bn1.bias, Shape: torch.Size([64])\n",
      "Layer: layer1.2.conv2.weight, Shape: torch.Size([64, 64, 3, 3])\n",
      "Layer: layer1.2.bn2.weight, Shape: torch.Size([64])\n",
      "Layer: layer1.2.bn2.bias, Shape: torch.Size([64])\n",
      "Layer: layer1.2.conv3.weight, Shape: torch.Size([256, 64, 1, 1])\n",
      "Layer: layer1.2.bn3.weight, Shape: torch.Size([256])\n",
      "Layer: layer1.2.bn3.bias, Shape: torch.Size([256])\n",
      "Layer: layer2.0.conv1.weight, Shape: torch.Size([128, 256, 1, 1])\n",
      "Layer: layer2.0.bn1.weight, Shape: torch.Size([128])\n",
      "Layer: layer2.0.bn1.bias, Shape: torch.Size([128])\n",
      "Layer: layer2.0.conv2.weight, Shape: torch.Size([128, 128, 3, 3])\n",
      "Layer: layer2.0.bn2.weight, Shape: torch.Size([128])\n",
      "Layer: layer2.0.bn2.bias, Shape: torch.Size([128])\n",
      "Layer: layer2.0.conv3.weight, Shape: torch.Size([512, 128, 1, 1])\n",
      "Layer: layer2.0.bn3.weight, Shape: torch.Size([512])\n",
      "Layer: layer2.0.bn3.bias, Shape: torch.Size([512])\n",
      "Layer: layer2.0.downsample.0.weight, Shape: torch.Size([512, 256, 1, 1])\n",
      "Layer: layer2.0.downsample.1.weight, Shape: torch.Size([512])\n",
      "Layer: layer2.0.downsample.1.bias, Shape: torch.Size([512])\n",
      "Layer: layer2.1.conv1.weight, Shape: torch.Size([128, 512, 1, 1])\n",
      "Layer: layer2.1.bn1.weight, Shape: torch.Size([128])\n",
      "Layer: layer2.1.bn1.bias, Shape: torch.Size([128])\n",
      "Layer: layer2.1.conv2.weight, Shape: torch.Size([128, 128, 3, 3])\n",
      "Layer: layer2.1.bn2.weight, Shape: torch.Size([128])\n",
      "Layer: layer2.1.bn2.bias, Shape: torch.Size([128])\n",
      "Layer: layer2.1.conv3.weight, Shape: torch.Size([512, 128, 1, 1])\n",
      "Layer: layer2.1.bn3.weight, Shape: torch.Size([512])\n",
      "Layer: layer2.1.bn3.bias, Shape: torch.Size([512])\n",
      "Layer: layer2.2.conv1.weight, Shape: torch.Size([128, 512, 1, 1])\n",
      "Layer: layer2.2.bn1.weight, Shape: torch.Size([128])\n",
      "Layer: layer2.2.bn1.bias, Shape: torch.Size([128])\n",
      "Layer: layer2.2.conv2.weight, Shape: torch.Size([128, 128, 3, 3])\n",
      "Layer: layer2.2.bn2.weight, Shape: torch.Size([128])\n",
      "Layer: layer2.2.bn2.bias, Shape: torch.Size([128])\n",
      "Layer: layer2.2.conv3.weight, Shape: torch.Size([512, 128, 1, 1])\n",
      "Layer: layer2.2.bn3.weight, Shape: torch.Size([512])\n",
      "Layer: layer2.2.bn3.bias, Shape: torch.Size([512])\n",
      "Layer: layer2.3.conv1.weight, Shape: torch.Size([128, 512, 1, 1])\n",
      "Layer: layer2.3.bn1.weight, Shape: torch.Size([128])\n",
      "Layer: layer2.3.bn1.bias, Shape: torch.Size([128])\n",
      "Layer: layer2.3.conv2.weight, Shape: torch.Size([128, 128, 3, 3])\n",
      "Layer: layer2.3.bn2.weight, Shape: torch.Size([128])\n",
      "Layer: layer2.3.bn2.bias, Shape: torch.Size([128])\n",
      "Layer: layer2.3.conv3.weight, Shape: torch.Size([512, 128, 1, 1])\n",
      "Layer: layer2.3.bn3.weight, Shape: torch.Size([512])\n",
      "Layer: layer2.3.bn3.bias, Shape: torch.Size([512])\n",
      "Layer: layer3.0.conv1.weight, Shape: torch.Size([256, 512, 1, 1])\n",
      "Layer: layer3.0.bn1.weight, Shape: torch.Size([256])\n",
      "Layer: layer3.0.bn1.bias, Shape: torch.Size([256])\n",
      "Layer: layer3.0.conv2.weight, Shape: torch.Size([256, 256, 3, 3])\n",
      "Layer: layer3.0.bn2.weight, Shape: torch.Size([256])\n",
      "Layer: layer3.0.bn2.bias, Shape: torch.Size([256])\n",
      "Layer: layer3.0.conv3.weight, Shape: torch.Size([1024, 256, 1, 1])\n",
      "Layer: layer3.0.bn3.weight, Shape: torch.Size([1024])\n",
      "Layer: layer3.0.bn3.bias, Shape: torch.Size([1024])\n",
      "Layer: layer3.0.downsample.0.weight, Shape: torch.Size([1024, 512, 1, 1])\n",
      "Layer: layer3.0.downsample.1.weight, Shape: torch.Size([1024])\n",
      "Layer: layer3.0.downsample.1.bias, Shape: torch.Size([1024])\n",
      "Layer: layer3.1.conv1.weight, Shape: torch.Size([256, 1024, 1, 1])\n",
      "Layer: layer3.1.bn1.weight, Shape: torch.Size([256])\n",
      "Layer: layer3.1.bn1.bias, Shape: torch.Size([256])\n",
      "Layer: layer3.1.conv2.weight, Shape: torch.Size([256, 256, 3, 3])\n",
      "Layer: layer3.1.bn2.weight, Shape: torch.Size([256])\n",
      "Layer: layer3.1.bn2.bias, Shape: torch.Size([256])\n",
      "Layer: layer3.1.conv3.weight, Shape: torch.Size([1024, 256, 1, 1])\n",
      "Layer: layer3.1.bn3.weight, Shape: torch.Size([1024])\n",
      "Layer: layer3.1.bn3.bias, Shape: torch.Size([1024])\n",
      "Layer: layer3.2.conv1.weight, Shape: torch.Size([256, 1024, 1, 1])\n",
      "Layer: layer3.2.bn1.weight, Shape: torch.Size([256])\n",
      "Layer: layer3.2.bn1.bias, Shape: torch.Size([256])\n",
      "Layer: layer3.2.conv2.weight, Shape: torch.Size([256, 256, 3, 3])\n",
      "Layer: layer3.2.bn2.weight, Shape: torch.Size([256])\n",
      "Layer: layer3.2.bn2.bias, Shape: torch.Size([256])\n",
      "Layer: layer3.2.conv3.weight, Shape: torch.Size([1024, 256, 1, 1])\n",
      "Layer: layer3.2.bn3.weight, Shape: torch.Size([1024])\n",
      "Layer: layer3.2.bn3.bias, Shape: torch.Size([1024])\n",
      "Layer: layer3.3.conv1.weight, Shape: torch.Size([256, 1024, 1, 1])\n",
      "Layer: layer3.3.bn1.weight, Shape: torch.Size([256])\n",
      "Layer: layer3.3.bn1.bias, Shape: torch.Size([256])\n",
      "Layer: layer3.3.conv2.weight, Shape: torch.Size([256, 256, 3, 3])\n",
      "Layer: layer3.3.bn2.weight, Shape: torch.Size([256])\n",
      "Layer: layer3.3.bn2.bias, Shape: torch.Size([256])\n",
      "Layer: layer3.3.conv3.weight, Shape: torch.Size([1024, 256, 1, 1])\n",
      "Layer: layer3.3.bn3.weight, Shape: torch.Size([1024])\n",
      "Layer: layer3.3.bn3.bias, Shape: torch.Size([1024])\n",
      "Layer: layer3.4.conv1.weight, Shape: torch.Size([256, 1024, 1, 1])\n",
      "Layer: layer3.4.bn1.weight, Shape: torch.Size([256])\n",
      "Layer: layer3.4.bn1.bias, Shape: torch.Size([256])\n",
      "Layer: layer3.4.conv2.weight, Shape: torch.Size([256, 256, 3, 3])\n",
      "Layer: layer3.4.bn2.weight, Shape: torch.Size([256])\n",
      "Layer: layer3.4.bn2.bias, Shape: torch.Size([256])\n",
      "Layer: layer3.4.conv3.weight, Shape: torch.Size([1024, 256, 1, 1])\n",
      "Layer: layer3.4.bn3.weight, Shape: torch.Size([1024])\n",
      "Layer: layer3.4.bn3.bias, Shape: torch.Size([1024])\n",
      "Layer: layer3.5.conv1.weight, Shape: torch.Size([256, 1024, 1, 1])\n",
      "Layer: layer3.5.bn1.weight, Shape: torch.Size([256])\n",
      "Layer: layer3.5.bn1.bias, Shape: torch.Size([256])\n",
      "Layer: layer3.5.conv2.weight, Shape: torch.Size([256, 256, 3, 3])\n",
      "Layer: layer3.5.bn2.weight, Shape: torch.Size([256])\n",
      "Layer: layer3.5.bn2.bias, Shape: torch.Size([256])\n",
      "Layer: layer3.5.conv3.weight, Shape: torch.Size([1024, 256, 1, 1])\n",
      "Layer: layer3.5.bn3.weight, Shape: torch.Size([1024])\n",
      "Layer: layer3.5.bn3.bias, Shape: torch.Size([1024])\n",
      "Layer: layer4.0.conv1.weight, Shape: torch.Size([512, 1024, 1, 1])\n",
      "Layer: layer4.0.bn1.weight, Shape: torch.Size([512])\n",
      "Layer: layer4.0.bn1.bias, Shape: torch.Size([512])\n",
      "Layer: layer4.0.conv2.weight, Shape: torch.Size([512, 512, 3, 3])\n",
      "Layer: layer4.0.bn2.weight, Shape: torch.Size([512])\n",
      "Layer: layer4.0.bn2.bias, Shape: torch.Size([512])\n",
      "Layer: layer4.0.conv3.weight, Shape: torch.Size([2048, 512, 1, 1])\n",
      "Layer: layer4.0.bn3.weight, Shape: torch.Size([2048])\n",
      "Layer: layer4.0.bn3.bias, Shape: torch.Size([2048])\n",
      "Layer: layer4.0.downsample.0.weight, Shape: torch.Size([2048, 1024, 1, 1])\n",
      "Layer: layer4.0.downsample.1.weight, Shape: torch.Size([2048])\n",
      "Layer: layer4.0.downsample.1.bias, Shape: torch.Size([2048])\n",
      "Layer: layer4.1.conv1.weight, Shape: torch.Size([512, 2048, 1, 1])\n",
      "Layer: layer4.1.bn1.weight, Shape: torch.Size([512])\n",
      "Layer: layer4.1.bn1.bias, Shape: torch.Size([512])\n",
      "Layer: layer4.1.conv2.weight, Shape: torch.Size([512, 512, 3, 3])\n",
      "Layer: layer4.1.bn2.weight, Shape: torch.Size([512])\n",
      "Layer: layer4.1.bn2.bias, Shape: torch.Size([512])\n",
      "Layer: layer4.1.conv3.weight, Shape: torch.Size([2048, 512, 1, 1])\n",
      "Layer: layer4.1.bn3.weight, Shape: torch.Size([2048])\n",
      "Layer: layer4.1.bn3.bias, Shape: torch.Size([2048])\n",
      "Layer: layer4.2.conv1.weight, Shape: torch.Size([512, 2048, 1, 1])\n",
      "Layer: layer4.2.bn1.weight, Shape: torch.Size([512])\n",
      "Layer: layer4.2.bn1.bias, Shape: torch.Size([512])\n",
      "Layer: layer4.2.conv2.weight, Shape: torch.Size([512, 512, 3, 3])\n",
      "Layer: layer4.2.bn2.weight, Shape: torch.Size([512])\n",
      "Layer: layer4.2.bn2.bias, Shape: torch.Size([512])\n",
      "Layer: layer4.2.conv3.weight, Shape: torch.Size([2048, 512, 1, 1])\n",
      "Layer: layer4.2.bn3.weight, Shape: torch.Size([2048])\n",
      "Layer: layer4.2.bn3.bias, Shape: torch.Size([2048])\n"
     ]
    }
   ],
   "source": [
    "model_resnet50_freeze = models.resnet50()\n",
    "\n",
    "for name, param in model_resnet50_freeze.named_parameters():\n",
    "    if \"layer\" in name : # 假設我們針對包含 \"layer\" 名稱的層進行凍結\n",
    "        print(f\"Layer: {name}, Shape: {param.shape}\")\n",
    "        param.requires_grad = False  # 停止更新這些層的權重\n",
    "        \n",
    "# 只訓練最後的分類層\n",
    "model_resnet50_freeze.fc.requires_grad = True"
   ]
  },
  {
   "cell_type": "markdown",
   "metadata": {},
   "source": [
    "以ViT為範例"
   ]
  },
  {
   "cell_type": "code",
   "execution_count": 241,
   "metadata": {},
   "outputs": [
    {
     "name": "stdout",
     "output_type": "stream",
     "text": [
      "Layer: encoder.pos_embedding, Shape: torch.Size([1, 197, 768])\n",
      "Layer: encoder.layers.encoder_layer_0.ln_1.weight, Shape: torch.Size([768])\n",
      "Layer: encoder.layers.encoder_layer_0.ln_1.bias, Shape: torch.Size([768])\n",
      "Layer: encoder.layers.encoder_layer_0.self_attention.in_proj_weight, Shape: torch.Size([2304, 768])\n",
      "Layer: encoder.layers.encoder_layer_0.self_attention.in_proj_bias, Shape: torch.Size([2304])\n",
      "Layer: encoder.layers.encoder_layer_0.self_attention.out_proj.weight, Shape: torch.Size([768, 768])\n",
      "Layer: encoder.layers.encoder_layer_0.self_attention.out_proj.bias, Shape: torch.Size([768])\n",
      "Layer: encoder.layers.encoder_layer_0.ln_2.weight, Shape: torch.Size([768])\n",
      "Layer: encoder.layers.encoder_layer_0.ln_2.bias, Shape: torch.Size([768])\n",
      "Layer: encoder.layers.encoder_layer_0.mlp.0.weight, Shape: torch.Size([3072, 768])\n",
      "Layer: encoder.layers.encoder_layer_0.mlp.0.bias, Shape: torch.Size([3072])\n",
      "Layer: encoder.layers.encoder_layer_0.mlp.3.weight, Shape: torch.Size([768, 3072])\n",
      "Layer: encoder.layers.encoder_layer_0.mlp.3.bias, Shape: torch.Size([768])\n",
      "Layer: encoder.layers.encoder_layer_1.ln_1.weight, Shape: torch.Size([768])\n",
      "Layer: encoder.layers.encoder_layer_1.ln_1.bias, Shape: torch.Size([768])\n",
      "Layer: encoder.layers.encoder_layer_1.self_attention.in_proj_weight, Shape: torch.Size([2304, 768])\n",
      "Layer: encoder.layers.encoder_layer_1.self_attention.in_proj_bias, Shape: torch.Size([2304])\n",
      "Layer: encoder.layers.encoder_layer_1.self_attention.out_proj.weight, Shape: torch.Size([768, 768])\n",
      "Layer: encoder.layers.encoder_layer_1.self_attention.out_proj.bias, Shape: torch.Size([768])\n",
      "Layer: encoder.layers.encoder_layer_1.ln_2.weight, Shape: torch.Size([768])\n",
      "Layer: encoder.layers.encoder_layer_1.ln_2.bias, Shape: torch.Size([768])\n",
      "Layer: encoder.layers.encoder_layer_1.mlp.0.weight, Shape: torch.Size([3072, 768])\n",
      "Layer: encoder.layers.encoder_layer_1.mlp.0.bias, Shape: torch.Size([3072])\n",
      "Layer: encoder.layers.encoder_layer_1.mlp.3.weight, Shape: torch.Size([768, 3072])\n",
      "Layer: encoder.layers.encoder_layer_1.mlp.3.bias, Shape: torch.Size([768])\n",
      "Layer: encoder.layers.encoder_layer_2.ln_1.weight, Shape: torch.Size([768])\n",
      "Layer: encoder.layers.encoder_layer_2.ln_1.bias, Shape: torch.Size([768])\n",
      "Layer: encoder.layers.encoder_layer_2.self_attention.in_proj_weight, Shape: torch.Size([2304, 768])\n",
      "Layer: encoder.layers.encoder_layer_2.self_attention.in_proj_bias, Shape: torch.Size([2304])\n",
      "Layer: encoder.layers.encoder_layer_2.self_attention.out_proj.weight, Shape: torch.Size([768, 768])\n",
      "Layer: encoder.layers.encoder_layer_2.self_attention.out_proj.bias, Shape: torch.Size([768])\n",
      "Layer: encoder.layers.encoder_layer_2.ln_2.weight, Shape: torch.Size([768])\n",
      "Layer: encoder.layers.encoder_layer_2.ln_2.bias, Shape: torch.Size([768])\n",
      "Layer: encoder.layers.encoder_layer_2.mlp.0.weight, Shape: torch.Size([3072, 768])\n",
      "Layer: encoder.layers.encoder_layer_2.mlp.0.bias, Shape: torch.Size([3072])\n",
      "Layer: encoder.layers.encoder_layer_2.mlp.3.weight, Shape: torch.Size([768, 3072])\n",
      "Layer: encoder.layers.encoder_layer_2.mlp.3.bias, Shape: torch.Size([768])\n",
      "Layer: encoder.layers.encoder_layer_3.ln_1.weight, Shape: torch.Size([768])\n",
      "Layer: encoder.layers.encoder_layer_3.ln_1.bias, Shape: torch.Size([768])\n",
      "Layer: encoder.layers.encoder_layer_3.self_attention.in_proj_weight, Shape: torch.Size([2304, 768])\n",
      "Layer: encoder.layers.encoder_layer_3.self_attention.in_proj_bias, Shape: torch.Size([2304])\n",
      "Layer: encoder.layers.encoder_layer_3.self_attention.out_proj.weight, Shape: torch.Size([768, 768])\n",
      "Layer: encoder.layers.encoder_layer_3.self_attention.out_proj.bias, Shape: torch.Size([768])\n",
      "Layer: encoder.layers.encoder_layer_3.ln_2.weight, Shape: torch.Size([768])\n",
      "Layer: encoder.layers.encoder_layer_3.ln_2.bias, Shape: torch.Size([768])\n",
      "Layer: encoder.layers.encoder_layer_3.mlp.0.weight, Shape: torch.Size([3072, 768])\n",
      "Layer: encoder.layers.encoder_layer_3.mlp.0.bias, Shape: torch.Size([3072])\n",
      "Layer: encoder.layers.encoder_layer_3.mlp.3.weight, Shape: torch.Size([768, 3072])\n",
      "Layer: encoder.layers.encoder_layer_3.mlp.3.bias, Shape: torch.Size([768])\n",
      "Layer: encoder.layers.encoder_layer_4.ln_1.weight, Shape: torch.Size([768])\n",
      "Layer: encoder.layers.encoder_layer_4.ln_1.bias, Shape: torch.Size([768])\n",
      "Layer: encoder.layers.encoder_layer_4.self_attention.in_proj_weight, Shape: torch.Size([2304, 768])\n",
      "Layer: encoder.layers.encoder_layer_4.self_attention.in_proj_bias, Shape: torch.Size([2304])\n",
      "Layer: encoder.layers.encoder_layer_4.self_attention.out_proj.weight, Shape: torch.Size([768, 768])\n",
      "Layer: encoder.layers.encoder_layer_4.self_attention.out_proj.bias, Shape: torch.Size([768])\n",
      "Layer: encoder.layers.encoder_layer_4.ln_2.weight, Shape: torch.Size([768])\n",
      "Layer: encoder.layers.encoder_layer_4.ln_2.bias, Shape: torch.Size([768])\n",
      "Layer: encoder.layers.encoder_layer_4.mlp.0.weight, Shape: torch.Size([3072, 768])\n",
      "Layer: encoder.layers.encoder_layer_4.mlp.0.bias, Shape: torch.Size([3072])\n",
      "Layer: encoder.layers.encoder_layer_4.mlp.3.weight, Shape: torch.Size([768, 3072])\n",
      "Layer: encoder.layers.encoder_layer_4.mlp.3.bias, Shape: torch.Size([768])\n",
      "Layer: encoder.layers.encoder_layer_5.ln_1.weight, Shape: torch.Size([768])\n",
      "Layer: encoder.layers.encoder_layer_5.ln_1.bias, Shape: torch.Size([768])\n",
      "Layer: encoder.layers.encoder_layer_5.self_attention.in_proj_weight, Shape: torch.Size([2304, 768])\n",
      "Layer: encoder.layers.encoder_layer_5.self_attention.in_proj_bias, Shape: torch.Size([2304])\n",
      "Layer: encoder.layers.encoder_layer_5.self_attention.out_proj.weight, Shape: torch.Size([768, 768])\n",
      "Layer: encoder.layers.encoder_layer_5.self_attention.out_proj.bias, Shape: torch.Size([768])\n",
      "Layer: encoder.layers.encoder_layer_5.ln_2.weight, Shape: torch.Size([768])\n",
      "Layer: encoder.layers.encoder_layer_5.ln_2.bias, Shape: torch.Size([768])\n",
      "Layer: encoder.layers.encoder_layer_5.mlp.0.weight, Shape: torch.Size([3072, 768])\n",
      "Layer: encoder.layers.encoder_layer_5.mlp.0.bias, Shape: torch.Size([3072])\n",
      "Layer: encoder.layers.encoder_layer_5.mlp.3.weight, Shape: torch.Size([768, 3072])\n",
      "Layer: encoder.layers.encoder_layer_5.mlp.3.bias, Shape: torch.Size([768])\n",
      "Layer: encoder.layers.encoder_layer_6.ln_1.weight, Shape: torch.Size([768])\n",
      "Layer: encoder.layers.encoder_layer_6.ln_1.bias, Shape: torch.Size([768])\n",
      "Layer: encoder.layers.encoder_layer_6.self_attention.in_proj_weight, Shape: torch.Size([2304, 768])\n",
      "Layer: encoder.layers.encoder_layer_6.self_attention.in_proj_bias, Shape: torch.Size([2304])\n",
      "Layer: encoder.layers.encoder_layer_6.self_attention.out_proj.weight, Shape: torch.Size([768, 768])\n",
      "Layer: encoder.layers.encoder_layer_6.self_attention.out_proj.bias, Shape: torch.Size([768])\n",
      "Layer: encoder.layers.encoder_layer_6.ln_2.weight, Shape: torch.Size([768])\n",
      "Layer: encoder.layers.encoder_layer_6.ln_2.bias, Shape: torch.Size([768])\n",
      "Layer: encoder.layers.encoder_layer_6.mlp.0.weight, Shape: torch.Size([3072, 768])\n",
      "Layer: encoder.layers.encoder_layer_6.mlp.0.bias, Shape: torch.Size([3072])\n",
      "Layer: encoder.layers.encoder_layer_6.mlp.3.weight, Shape: torch.Size([768, 3072])\n",
      "Layer: encoder.layers.encoder_layer_6.mlp.3.bias, Shape: torch.Size([768])\n",
      "Layer: encoder.layers.encoder_layer_7.ln_1.weight, Shape: torch.Size([768])\n",
      "Layer: encoder.layers.encoder_layer_7.ln_1.bias, Shape: torch.Size([768])\n",
      "Layer: encoder.layers.encoder_layer_7.self_attention.in_proj_weight, Shape: torch.Size([2304, 768])\n",
      "Layer: encoder.layers.encoder_layer_7.self_attention.in_proj_bias, Shape: torch.Size([2304])\n",
      "Layer: encoder.layers.encoder_layer_7.self_attention.out_proj.weight, Shape: torch.Size([768, 768])\n",
      "Layer: encoder.layers.encoder_layer_7.self_attention.out_proj.bias, Shape: torch.Size([768])\n",
      "Layer: encoder.layers.encoder_layer_7.ln_2.weight, Shape: torch.Size([768])\n",
      "Layer: encoder.layers.encoder_layer_7.ln_2.bias, Shape: torch.Size([768])\n",
      "Layer: encoder.layers.encoder_layer_7.mlp.0.weight, Shape: torch.Size([3072, 768])\n",
      "Layer: encoder.layers.encoder_layer_7.mlp.0.bias, Shape: torch.Size([3072])\n",
      "Layer: encoder.layers.encoder_layer_7.mlp.3.weight, Shape: torch.Size([768, 3072])\n",
      "Layer: encoder.layers.encoder_layer_7.mlp.3.bias, Shape: torch.Size([768])\n",
      "Layer: encoder.layers.encoder_layer_8.ln_1.weight, Shape: torch.Size([768])\n",
      "Layer: encoder.layers.encoder_layer_8.ln_1.bias, Shape: torch.Size([768])\n",
      "Layer: encoder.layers.encoder_layer_8.self_attention.in_proj_weight, Shape: torch.Size([2304, 768])\n",
      "Layer: encoder.layers.encoder_layer_8.self_attention.in_proj_bias, Shape: torch.Size([2304])\n",
      "Layer: encoder.layers.encoder_layer_8.self_attention.out_proj.weight, Shape: torch.Size([768, 768])\n",
      "Layer: encoder.layers.encoder_layer_8.self_attention.out_proj.bias, Shape: torch.Size([768])\n",
      "Layer: encoder.layers.encoder_layer_8.ln_2.weight, Shape: torch.Size([768])\n",
      "Layer: encoder.layers.encoder_layer_8.ln_2.bias, Shape: torch.Size([768])\n",
      "Layer: encoder.layers.encoder_layer_8.mlp.0.weight, Shape: torch.Size([3072, 768])\n",
      "Layer: encoder.layers.encoder_layer_8.mlp.0.bias, Shape: torch.Size([3072])\n",
      "Layer: encoder.layers.encoder_layer_8.mlp.3.weight, Shape: torch.Size([768, 3072])\n",
      "Layer: encoder.layers.encoder_layer_8.mlp.3.bias, Shape: torch.Size([768])\n",
      "Layer: encoder.layers.encoder_layer_9.ln_1.weight, Shape: torch.Size([768])\n",
      "Layer: encoder.layers.encoder_layer_9.ln_1.bias, Shape: torch.Size([768])\n",
      "Layer: encoder.layers.encoder_layer_9.self_attention.in_proj_weight, Shape: torch.Size([2304, 768])\n",
      "Layer: encoder.layers.encoder_layer_9.self_attention.in_proj_bias, Shape: torch.Size([2304])\n",
      "Layer: encoder.layers.encoder_layer_9.self_attention.out_proj.weight, Shape: torch.Size([768, 768])\n",
      "Layer: encoder.layers.encoder_layer_9.self_attention.out_proj.bias, Shape: torch.Size([768])\n",
      "Layer: encoder.layers.encoder_layer_9.ln_2.weight, Shape: torch.Size([768])\n",
      "Layer: encoder.layers.encoder_layer_9.ln_2.bias, Shape: torch.Size([768])\n",
      "Layer: encoder.layers.encoder_layer_9.mlp.0.weight, Shape: torch.Size([3072, 768])\n",
      "Layer: encoder.layers.encoder_layer_9.mlp.0.bias, Shape: torch.Size([3072])\n",
      "Layer: encoder.layers.encoder_layer_9.mlp.3.weight, Shape: torch.Size([768, 3072])\n",
      "Layer: encoder.layers.encoder_layer_9.mlp.3.bias, Shape: torch.Size([768])\n",
      "Layer: encoder.layers.encoder_layer_10.ln_1.weight, Shape: torch.Size([768])\n",
      "Layer: encoder.layers.encoder_layer_10.ln_1.bias, Shape: torch.Size([768])\n",
      "Layer: encoder.layers.encoder_layer_10.self_attention.in_proj_weight, Shape: torch.Size([2304, 768])\n",
      "Layer: encoder.layers.encoder_layer_10.self_attention.in_proj_bias, Shape: torch.Size([2304])\n",
      "Layer: encoder.layers.encoder_layer_10.self_attention.out_proj.weight, Shape: torch.Size([768, 768])\n",
      "Layer: encoder.layers.encoder_layer_10.self_attention.out_proj.bias, Shape: torch.Size([768])\n",
      "Layer: encoder.layers.encoder_layer_10.ln_2.weight, Shape: torch.Size([768])\n",
      "Layer: encoder.layers.encoder_layer_10.ln_2.bias, Shape: torch.Size([768])\n",
      "Layer: encoder.layers.encoder_layer_10.mlp.0.weight, Shape: torch.Size([3072, 768])\n",
      "Layer: encoder.layers.encoder_layer_10.mlp.0.bias, Shape: torch.Size([3072])\n",
      "Layer: encoder.layers.encoder_layer_10.mlp.3.weight, Shape: torch.Size([768, 3072])\n",
      "Layer: encoder.layers.encoder_layer_10.mlp.3.bias, Shape: torch.Size([768])\n",
      "Layer: encoder.layers.encoder_layer_11.ln_1.weight, Shape: torch.Size([768])\n",
      "Layer: encoder.layers.encoder_layer_11.ln_1.bias, Shape: torch.Size([768])\n",
      "Layer: encoder.layers.encoder_layer_11.self_attention.in_proj_weight, Shape: torch.Size([2304, 768])\n",
      "Layer: encoder.layers.encoder_layer_11.self_attention.in_proj_bias, Shape: torch.Size([2304])\n",
      "Layer: encoder.layers.encoder_layer_11.self_attention.out_proj.weight, Shape: torch.Size([768, 768])\n",
      "Layer: encoder.layers.encoder_layer_11.self_attention.out_proj.bias, Shape: torch.Size([768])\n",
      "Layer: encoder.layers.encoder_layer_11.ln_2.weight, Shape: torch.Size([768])\n",
      "Layer: encoder.layers.encoder_layer_11.ln_2.bias, Shape: torch.Size([768])\n",
      "Layer: encoder.layers.encoder_layer_11.mlp.0.weight, Shape: torch.Size([3072, 768])\n",
      "Layer: encoder.layers.encoder_layer_11.mlp.0.bias, Shape: torch.Size([3072])\n",
      "Layer: encoder.layers.encoder_layer_11.mlp.3.weight, Shape: torch.Size([768, 3072])\n",
      "Layer: encoder.layers.encoder_layer_11.mlp.3.bias, Shape: torch.Size([768])\n",
      "Layer: encoder.ln.weight, Shape: torch.Size([768])\n",
      "Layer: encoder.ln.bias, Shape: torch.Size([768])\n"
     ]
    }
   ],
   "source": [
    "model_vit_b_16_freeze=models.vit_b_16(weights='IMAGENET1K_V1')\n",
    "\n",
    "for name, param in model_vit_b_16_freeze.named_parameters():\n",
    "    if \"encoder\" in name : # 假設我們針對包含 \"encoder\" 名稱的層進行凍結\n",
    "        print(f\"Layer: {name}, Shape: {param.shape}\")\n",
    "        param.requires_grad = False  # 停止更新這些層的權重\n",
    "\n",
    "# 只訓練最後的分類層\n",
    "model_vit_b_16_freeze.heads.requires_grad = True"
   ]
  },
  {
   "cell_type": "markdown",
   "metadata": {},
   "source": [
    "<a id=\"ref2\"></a>\n",
    "<h2 align=center>提取權重  </h2>\n"
   ]
  },
  {
   "cell_type": "markdown",
   "metadata": {},
   "source": [
    "提取權重是指從訓練好的模型中提取某些層或參數的數值。這可以用於分析模型的內部結構，或者在不同的模型間共享權重。提取權重有助於理解模型學到的特徵，並且可以用來在不同的任務中重用這些權重。"
   ]
  },
  {
   "cell_type": "markdown",
   "metadata": {},
   "source": [
    "以ResNet50為範例"
   ]
  },
  {
   "cell_type": "code",
   "execution_count": 260,
   "metadata": {},
   "outputs": [
    {
     "name": "stderr",
     "output_type": "stream",
     "text": [
      "c:\\Users\\tony1\\anaconda3\\envs\\pytorch\\Lib\\site-packages\\torchvision\\models\\_utils.py:223: UserWarning: Arguments other than a weight enum or `None` for 'weights' are deprecated since 0.13 and may be removed in the future. The current behavior is equivalent to passing `weights=ResNet50_Weights.IMAGENET1K_V1`. You can also use `weights=ResNet50_Weights.DEFAULT` to get the most up-to-date weights.\n",
      "  warnings.warn(msg)\n"
     ]
    }
   ],
   "source": [
    "model_resnet50_extract = models.resnet50(weights=True)\n",
    "\n",
    "# 提取某一層的權重\n",
    "conv_weights = model_resnet50_extract.conv1.weight.data\n",
    "\n",
    "# 提取模型的所有權重\n",
    "all_weights = model_resnet50_extract.state_dict()"
   ]
  },
  {
   "cell_type": "markdown",
   "metadata": {},
   "source": [
    "以ViT為範例"
   ]
  },
  {
   "cell_type": "code",
   "execution_count": 261,
   "metadata": {},
   "outputs": [],
   "source": [
    "model_vit_b_16_extract=models.vit_b_16(weights='IMAGENET1K_V1')\n",
    "\n",
    "# 提取某一層的權重\n",
    "attention_weights = model_vit_b_16_extract.encoder.layers[1].self_attention.in_proj_weight.data\n",
    "\n",
    "# 提取模型的所有權重\n",
    "all_weights = model_vit_b_16_extract.state_dict()"
   ]
  },
  {
   "cell_type": "markdown",
   "metadata": {},
   "source": [
    "<a id=\"ref3\"></a>\n",
    "<h2 align=center>保存權重  </h2>\n"
   ]
  },
  {
   "cell_type": "markdown",
   "metadata": {},
   "source": [
    "在深度學習中，模型的訓練過程中，權重是模型學習到的知識。保存權重的目的是將訓練好的模型狀態儲存下來，這樣你可以在以後重新加載這些權重，而不需要從頭開始訓練。這不僅有助於節省時間，還能保證訓練結果的可復現性，並能在不同的環境中進行模型部署。"
   ]
  },
  {
   "cell_type": "markdown",
   "metadata": {},
   "source": [
    "以ResNet50為範例"
   ]
  },
  {
   "cell_type": "code",
   "execution_count": 264,
   "metadata": {},
   "outputs": [
    {
     "name": "stdout",
     "output_type": "stream",
     "text": [
      "整個模型的權重已成功保存！\n",
      "第一個卷積層的權重已成功保存！\n",
      "模型權重已成功加載！\n",
      "第一個卷積層的權重已成功加載！\n"
     ]
    },
    {
     "name": "stderr",
     "output_type": "stream",
     "text": [
      "C:\\Users\\tony1\\AppData\\Local\\Temp\\ipykernel_39040\\3853522088.py:14: FutureWarning: You are using `torch.load` with `weights_only=False` (the current default value), which uses the default pickle module implicitly. It is possible to construct malicious pickle data which will execute arbitrary code during unpickling (See https://github.com/pytorch/pytorch/blob/main/SECURITY.md#untrusted-models for more details). In a future release, the default value for `weights_only` will be flipped to `True`. This limits the functions that could be executed during unpickling. Arbitrary objects will no longer be allowed to be loaded via this mode unless they are explicitly allowlisted by the user via `torch.serialization.add_safe_globals`. We recommend you start setting `weights_only=True` for any use case where you don't have full control of the loaded file. Please open an issue on GitHub for any issues related to this experimental feature.\n",
      "  model_resnet50_load.load_state_dict(torch.load(\"resnet50_weights.pth\"))\n",
      "C:\\Users\\tony1\\AppData\\Local\\Temp\\ipykernel_39040\\3853522088.py:18: FutureWarning: You are using `torch.load` with `weights_only=False` (the current default value), which uses the default pickle module implicitly. It is possible to construct malicious pickle data which will execute arbitrary code during unpickling (See https://github.com/pytorch/pytorch/blob/main/SECURITY.md#untrusted-models for more details). In a future release, the default value for `weights_only` will be flipped to `True`. This limits the functions that could be executed during unpickling. Arbitrary objects will no longer be allowed to be loaded via this mode unless they are explicitly allowlisted by the user via `torch.serialization.add_safe_globals`. We recommend you start setting `weights_only=True` for any use case where you don't have full control of the loaded file. Please open an issue on GitHub for any issues related to this experimental feature.\n",
      "  model_resnet50_load.conv1.weight.data = torch.load(\"resnet50_conv1_weights.pth\")\n"
     ]
    }
   ],
   "source": [
    "model_resnet50_save = models.resnet50(weights=True)\n",
    "\n",
    "# 保存整個模型的權重\n",
    "torch.save(model_resnet50_save.state_dict(), \"resnet50_weights.pth\")\n",
    "print(\"整個模型的權重已成功保存！\")\n",
    "\n",
    "# 提取並保存第一個卷積層的權重\n",
    "conv1_weights = model_resnet50_save.conv1.weight.data\n",
    "torch.save(conv1_weights, \"resnet50_conv1_weights.pth\")\n",
    "print(\"第一個卷積層的權重已成功保存！\")\n",
    "\n",
    "# 從文件中加載權重\n",
    "model_resnet50_load = models.resnet50(weights=None)\n",
    "model_resnet50_load.load_state_dict(torch.load(\"resnet50_weights.pth\"))\n",
    "print(\"模型權重已成功加載！\")\n",
    "\n",
    "# 加載第一個卷積層的權重\n",
    "model_resnet50_load.conv1.weight.data = torch.load(\"resnet50_conv1_weights.pth\")\n",
    "print(\"第一個卷積層的權重已成功加載！\")\n"
   ]
  },
  {
   "cell_type": "markdown",
   "metadata": {},
   "source": [
    "以ViT為範例"
   ]
  },
  {
   "cell_type": "code",
   "execution_count": null,
   "metadata": {},
   "outputs": [
    {
     "name": "stdout",
     "output_type": "stream",
     "text": [
      "整個模型的權重已成功保存！\n",
      "第二層自注意力層的權重已成功保存！\n",
      "模型權重已成功加載！\n",
      "第二層自注意力層的權重已成功加載！\n"
     ]
    },
    {
     "name": "stderr",
     "output_type": "stream",
     "text": [
      "C:\\Users\\tony1\\AppData\\Local\\Temp\\ipykernel_39040\\2306062141.py:18: FutureWarning: You are using `torch.load` with `weights_only=False` (the current default value), which uses the default pickle module implicitly. It is possible to construct malicious pickle data which will execute arbitrary code during unpickling (See https://github.com/pytorch/pytorch/blob/main/SECURITY.md#untrusted-models for more details). In a future release, the default value for `weights_only` will be flipped to `True`. This limits the functions that could be executed during unpickling. Arbitrary objects will no longer be allowed to be loaded via this mode unless they are explicitly allowlisted by the user via `torch.serialization.add_safe_globals`. We recommend you start setting `weights_only=True` for any use case where you don't have full control of the loaded file. Please open an issue on GitHub for any issues related to this experimental feature.\n",
      "  model_vit_b_16_load.load_state_dict(torch.load(\"vit_b_16_weights.pth\"))\n",
      "C:\\Users\\tony1\\AppData\\Local\\Temp\\ipykernel_39040\\2306062141.py:22: FutureWarning: You are using `torch.load` with `weights_only=False` (the current default value), which uses the default pickle module implicitly. It is possible to construct malicious pickle data which will execute arbitrary code during unpickling (See https://github.com/pytorch/pytorch/blob/main/SECURITY.md#untrusted-models for more details). In a future release, the default value for `weights_only` will be flipped to `True`. This limits the functions that could be executed during unpickling. Arbitrary objects will no longer be allowed to be loaded via this mode unless they are explicitly allowlisted by the user via `torch.serialization.add_safe_globals`. We recommend you start setting `weights_only=True` for any use case where you don't have full control of the loaded file. Please open an issue on GitHub for any issues related to this experimental feature.\n",
      "  model_vit_b_16_load.encoder.layers[1].self_attention.out_proj.weight.data = torch.load(\"vit_attention_layer_1_weights.pth\")\n"
     ]
    }
   ],
   "source": [
    "import torch\n",
    "from torchvision import models\n",
    "\n",
    "# 載入ViT模型\n",
    "model_vit_b_16_save = models.vit_b_16(weights='IMAGENET1K_V1')\n",
    "\n",
    "# 保存整個模型的權重\n",
    "torch.save(model_vit_b_16_save.state_dict(), \"vit_b_16_weights.pth\")\n",
    "print(\"整個模型的權重已成功保存！\")\n",
    "\n",
    "# 提取並保存第二層自注意力層的權重\n",
    "attention_weights = model_vit_b_16_save.encoder.layers[1].self_attention.out_proj.weight.data\n",
    "torch.save(attention_weights, \"vit_attention_layer_1_weights.pth\")\n",
    "print(\"第二層自注意力層的權重已成功保存！\")\n",
    "\n",
    "# 從文件中加載權重\n",
    "model_vit_b_16_load = models.vit_b_16(weights=None)\n",
    "model_vit_b_16_load.load_state_dict(torch.load(\"vit_b_16_weights.pth\"))\n",
    "print(\"模型權重已成功加載！\")\n",
    "\n",
    "# 加載第二層自注意力層的權重\n",
    "model_vit_b_16_load.encoder.layers[1].self_attention.out_proj.weight.data = torch.load(\"vit_attention_layer_1_weights.pth\")\n",
    "print(\"第二層自注意力層的權重已成功加載！\")\n"
   ]
  }
 ],
 "metadata": {
  "kernelspec": {
   "display_name": "pytorch",
   "language": "python",
   "name": "python3"
  },
  "language_info": {
   "codemirror_mode": {
    "name": "ipython",
    "version": 3
   },
   "file_extension": ".py",
   "mimetype": "text/x-python",
   "name": "python",
   "nbconvert_exporter": "python",
   "pygments_lexer": "ipython3",
   "version": "3.12.7"
  }
 },
 "nbformat": 4,
 "nbformat_minor": 2
}
